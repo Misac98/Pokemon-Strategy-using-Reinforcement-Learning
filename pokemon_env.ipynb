{
 "cells": [
  {
   "metadata": {
    "ExecuteTime": {
     "end_time": "2024-10-27T12:21:55.064746Z",
     "start_time": "2024-10-27T12:21:55.049124Z"
    }
   },
   "cell_type": "code",
   "source": [
    "#pip install poke-env\n",
    "#pip install --upgrade poke-env\n",
    "#pip show poke-env\n",
    "#cd \"C:\\Users\\Isac\\Desktop\\Pokémon project\\pythonProject\\pokemon-showdown\"\n",
    "#node pokemon-showdown start --no-security"
   ],
   "id": "initial_id",
   "outputs": [],
   "execution_count": 205
  },
  {
   "metadata": {
    "ExecuteTime": {
     "end_time": "2024-10-27T13:12:12.316518Z",
     "start_time": "2024-10-27T13:12:11.295683Z"
    }
   },
   "cell_type": "code",
   "source": [
    "import numpy as np\n",
    "from poke_env.teambuilder import Teambuilder\n",
    "\n",
    "class RandomTeamFromPool(Teambuilder):\n",
    "    def __init__(self, teams):\n",
    "        self.teams = [self.join_team(self.parse_showdown_team(team)) for team in teams]\n",
    "\n",
    "    def yield_team(self):\n",
    "        return np.random.choice(self.teams)\n",
    "    "
   ],
   "id": "2ab610140f3cc75f",
   "outputs": [],
   "execution_count": 1
  },
  {
   "metadata": {
    "ExecuteTime": {
     "end_time": "2024-10-27T13:12:17.438274Z",
     "start_time": "2024-10-27T13:12:17.405718Z"
    }
   },
   "cell_type": "code",
   "source": [
    "import os\n",
    "\n",
    "teamsPaths = []\n",
    "for root, dirs, files in os.walk(r\"C:\\Users\\Isac\\Desktop\\Pokémon project\\pokémonTeams\\teams1\"):\n",
    "\tfor file in files:\n",
    "\t\tteamsPaths.append(os.path.join(root,file))\n",
    "\n",
    "teams = []\n",
    "for teamPath in teamsPaths:\n",
    "    with open(teamPath, \"r\") as team:\n",
    "        teams.append(team.read())\n"
   ],
   "id": "320e2dafc6d678cb",
   "outputs": [],
   "execution_count": 2
  },
  {
   "metadata": {
    "ExecuteTime": {
     "end_time": "2024-10-27T13:12:18.780811Z",
     "start_time": "2024-10-27T13:12:18.768161Z"
    }
   },
   "cell_type": "code",
   "source": [
    "# print(teams)\n",
    "custom_builder = RandomTeamFromPool(teams)"
   ],
   "id": "1022eb0649940200",
   "outputs": [],
   "execution_count": 3
  },
  {
   "metadata": {
    "ExecuteTime": {
     "end_time": "2024-10-27T13:12:19.965823Z",
     "start_time": "2024-10-27T13:12:19.954282Z"
    }
   },
   "cell_type": "code",
   "source": [
    "import subprocess\n",
    "import json\n",
    "\n",
    "def run_javascript(file_path, *args):\n",
    "    result = subprocess.run([\"node \", file_path] + list(args), capture_output=True, text=True, check=True)\n",
    "    return json.loads(result.stdout)\n"
   ],
   "id": "2bb6cd7b2fdc9b08",
   "outputs": [],
   "execution_count": 4
  },
  {
   "metadata": {
    "ExecuteTime": {
     "end_time": "2024-10-27T13:12:21.867343Z",
     "start_time": "2024-10-27T13:12:21.839254Z"
    }
   },
   "cell_type": "code",
   "source": [
    "from poke_env.player.player import Player\n",
    "from poke_env.environment.abstract_battle import AbstractBattle\n",
    "\n",
    "# Define a custom player by subclassing Player\n",
    "class CustomPlayer(Player):\n",
    "    def choose_move(self, battle: AbstractBattle):\n",
    "        if battle.available_moves:\n",
    "            return self.create_order(max(battle.available_moves, key=lambda move: move.base_power*move.accuracy))\n",
    "        else:\n",
    "            return self.choose_random_move(battle)\n",
    "\n",
    "# Define a optimized player by subclassing Player\n",
    "class OptimizedPlayer(Player):                \n",
    "    def choose_move(self, battle: AbstractBattle):\n",
    "        # print(f\"Own pokemon: {battle.active_pokemon}\")\n",
    "        # print(f\"Own pokemon name: {battle.active_pokemon.species}\")\n",
    "        # print(f\"Own pokemon level: {battle.active_pokemon.level}\")\n",
    "        # print(f\"Own pokemon item: {battle.active_pokemon.item}\")\n",
    "        # print(f\"Own pokemon status: {battle.active_pokemon.status}\")\n",
    "        # print(f\"Own pokemon ability: {battle.active_pokemon.ability}\")\n",
    "        # print(f\"Own pokemon boosts: {battle.active_pokemon.boosts}\")\n",
    "        \n",
    "        # print(f\"Own pokemon stats: {battle.active_pokemon.stats}\")\n",
    "        # print(f\"Own pokemon base stats: {battle.active_pokemon.base_stats}\")\n",
    "        \n",
    "        # print(f\"Opponent pokemon: {battle.opponent_active_pokemon}\")\n",
    "        # print(f\"Opponent pokemon name: {battle.opponent_active_pokemon.species}\")\n",
    "        \n",
    "        # print()\n",
    "        if battle.available_moves:\n",
    "            attacker = battle.active_pokemon\n",
    "            attacker_name = str(attacker.species)\n",
    "            attacker_level = str(attacker.level)\n",
    "            attacker_item = str(attacker.item)\n",
    "            attacker_status = str(attacker.status)\n",
    "            attacker_ability = str(attacker.ability)\n",
    "            attacker_boosts = str(attacker.boosts)\n",
    "            \n",
    "            defender = battle.opponent_active_pokemon\n",
    "            defender_name = str(defender.species)\n",
    "            defender_level = str(defender.level)\n",
    "            defender_item = str(defender.item)\n",
    "            defender_status = str(defender.status)\n",
    "            defender_ability = str(defender.ability)\n",
    "            defender_boosts = str(defender.boosts)\n",
    "            \n",
    "            average_damage_moves = {}\n",
    "            for current_move in battle.available_moves:\n",
    "            \n",
    "                calculate_damage = run_javascript(\"damage_calculation.js\", \n",
    "                attacker_name, attacker_level, attacker_item, attacker_status, attacker_ability, attacker_boosts, \n",
    "                defender_name, defender_level, defender_item, defender_status, defender_ability, defender_boosts, \n",
    "                               str(current_move.id))\n",
    "                \n",
    "                # print(f\"Current moves: {current_move}\")\n",
    "                # print(f\"Current move damage: {calculate_damage}\")\n",
    "                \n",
    "                if calculate_damage == 0:\n",
    "                    average_damage_moves[current_move] = 0\n",
    "                else:\n",
    "                    average_damage_moves[current_move] = sum(calculate_damage)/len(calculate_damage)\n",
    "                    \n",
    "            # print(f\"Current moves: {average_damage_moves}\")\n",
    "            # print(f\"Picked move: {max(average_damage_moves, key=average_damage_moves.get)}\")\n",
    "            return self.create_order(max(average_damage_moves, key=average_damage_moves.get))\n",
    "        else:\n",
    "            return self.choose_random_move(battle)\n",
    "\n"
   ],
   "id": "3457b3d209a4bd0e",
   "outputs": [],
   "execution_count": 5
  },
  {
   "metadata": {
    "ExecuteTime": {
     "end_time": "2024-10-27T13:12:28.137334Z",
     "start_time": "2024-10-27T13:12:28.089698Z"
    }
   },
   "cell_type": "code",
   "source": [
    "from poke_env import RandomPlayer\n",
    "from poke_env import LocalhostServerConfiguration\n",
    "\n",
    "server_configuration = LocalhostServerConfiguration\n",
    "generation = \"gen2ou\"\n",
    "\n",
    "optimized_player = OptimizedPlayer(\n",
    "    server_configuration=server_configuration,\n",
    "    battle_format=generation,\n",
    "    team=custom_builder)\n",
    "\n",
    "custom_player = CustomPlayer(\n",
    "    server_configuration=server_configuration,\n",
    "    battle_format=generation,\n",
    "    team=custom_builder)\n",
    "\n",
    "random_player = RandomPlayer(\n",
    "    server_configuration=server_configuration,\n",
    "    battle_format=generation,\n",
    "    team=custom_builder)\n",
    "\n",
    "random_player2 = RandomPlayer(\n",
    "    server_configuration=server_configuration,\n",
    "    battle_format=generation,\n",
    "    team=custom_builder)\n"
   ],
   "id": "a176877be145ffba",
   "outputs": [],
   "execution_count": 6
  },
  {
   "metadata": {},
   "cell_type": "code",
   "source": [
    "import time\n",
    "start_time = time.time()\n",
    "await optimized_player.battle_against(custom_player, n_battles=100)\n",
    "print(\"--- %s seconds ---\" % (time.time() - start_time))"
   ],
   "id": "3f66d196bfe4b3cd",
   "outputs": [],
   "execution_count": null
  },
  {
   "metadata": {
    "ExecuteTime": {
     "end_time": "2024-10-27T15:14:44.509036Z",
     "start_time": "2024-10-27T15:14:44.500864Z"
    }
   },
   "cell_type": "code",
   "source": [
    "print(f\"Battles played: {optimized_player.n_finished_battles}\")\n",
    "print(f\"Battles won: {optimized_player.n_won_battles}\")\n",
    "print(f\"Win rate: {optimized_player.win_rate}\")"
   ],
   "id": "5524ae48935d3917",
   "outputs": [
    {
     "name": "stdout",
     "output_type": "stream",
     "text": [
      "Battles played: 205\n",
      "Battles won: 164\n",
      "Win rate: 0.8\n"
     ]
    }
   ],
   "execution_count": 17
  },
  {
   "metadata": {},
   "cell_type": "code",
   "outputs": [],
   "execution_count": null,
   "source": [
    "import asyncio\n",
    "\n",
    "async def main():\n",
    "    await optimized_player.battle_against(custom_player, n_battles=1)\n",
    "\n",
    "if __name__ == \"__main__\":\n",
    "    asyncio.get_event_loop().run_until_complete(main())"
   ],
   "id": "e89c2558da27b8c8"
  },
  {
   "metadata": {},
   "cell_type": "code",
   "outputs": [],
   "execution_count": null,
   "source": "",
   "id": "4355bd93b01e5498"
  },
  {
   "metadata": {},
   "cell_type": "code",
   "outputs": [
    {
     "ename": "KeyboardInterrupt",
     "evalue": "",
     "output_type": "error",
     "traceback": [
      "\u001B[1;31m---------------------------------------------------------------------------\u001B[0m",
      "\u001B[1;31mKeyboardInterrupt\u001B[0m                         Traceback (most recent call last)",
      "\u001B[1;32m<ipython-input-68-7919d859c2fb>\u001B[0m in \u001B[0;36m<module>\u001B[1;34m\u001B[0m\n\u001B[0;32m     77\u001B[0m \u001B[1;33m\u001B[0m\u001B[0m\n\u001B[0;32m     78\u001B[0m \u001B[1;31m# Estimate possible matches\u001B[0m\u001B[1;33m\u001B[0m\u001B[1;33m\u001B[0m\u001B[1;33m\u001B[0m\u001B[0m\n\u001B[1;32m---> 79\u001B[1;33m \u001B[0mpossible_matches\u001B[0m \u001B[1;33m=\u001B[0m \u001B[0mestimate_all_stats\u001B[0m\u001B[1;33m(\u001B[0m\u001B[0mbase_stats\u001B[0m\u001B[1;33m,\u001B[0m \u001B[0mobserved_stats\u001B[0m\u001B[1;33m,\u001B[0m \u001B[0mlevel\u001B[0m\u001B[1;33m)\u001B[0m\u001B[1;33m\u001B[0m\u001B[1;33m\u001B[0m\u001B[0m\n\u001B[0m\u001B[0;32m     80\u001B[0m \u001B[1;33m\u001B[0m\u001B[0m\n\u001B[0;32m     81\u001B[0m \u001B[1;31m# Print possible matches\u001B[0m\u001B[1;33m\u001B[0m\u001B[1;33m\u001B[0m\u001B[1;33m\u001B[0m\u001B[0m\n",
      "\u001B[1;32m<ipython-input-68-7919d859c2fb>\u001B[0m in \u001B[0;36mestimate_all_stats\u001B[1;34m(base_stats, observed_stats, level)\u001B[0m\n\u001B[0;32m     45\u001B[0m                 \u001B[1;32mfor\u001B[0m \u001B[0mstat_key\u001B[0m\u001B[1;33m,\u001B[0m \u001B[0mbase_stat\u001B[0m \u001B[1;32min\u001B[0m \u001B[0mbase_stats\u001B[0m\u001B[1;33m.\u001B[0m\u001B[0mitems\u001B[0m\u001B[1;33m(\u001B[0m\u001B[1;33m)\u001B[0m\u001B[1;33m:\u001B[0m\u001B[1;33m\u001B[0m\u001B[1;33m\u001B[0m\u001B[0m\n\u001B[0;32m     46\u001B[0m                     \u001B[0mobserved_stat\u001B[0m \u001B[1;33m=\u001B[0m \u001B[0mobserved_stats\u001B[0m\u001B[1;33m[\u001B[0m\u001B[0mstat_key\u001B[0m\u001B[1;33m]\u001B[0m\u001B[1;33m\u001B[0m\u001B[1;33m\u001B[0m\u001B[0m\n\u001B[1;32m---> 47\u001B[1;33m                     \u001B[0miv\u001B[0m \u001B[1;33m=\u001B[0m \u001B[0mivs\u001B[0m\u001B[1;33m[\u001B[0m\u001B[0mlist\u001B[0m\u001B[1;33m(\u001B[0m\u001B[0mbase_stats\u001B[0m\u001B[1;33m.\u001B[0m\u001B[0mkeys\u001B[0m\u001B[1;33m(\u001B[0m\u001B[1;33m)\u001B[0m\u001B[1;33m)\u001B[0m\u001B[1;33m.\u001B[0m\u001B[0mindex\u001B[0m\u001B[1;33m(\u001B[0m\u001B[0mstat_key\u001B[0m\u001B[1;33m)\u001B[0m\u001B[1;33m]\u001B[0m\u001B[1;33m\u001B[0m\u001B[1;33m\u001B[0m\u001B[0m\n\u001B[0m\u001B[0;32m     48\u001B[0m                     \u001B[0mev\u001B[0m \u001B[1;33m=\u001B[0m \u001B[0mevs\u001B[0m\u001B[1;33m[\u001B[0m\u001B[0mlist\u001B[0m\u001B[1;33m(\u001B[0m\u001B[0mbase_stats\u001B[0m\u001B[1;33m.\u001B[0m\u001B[0mkeys\u001B[0m\u001B[1;33m(\u001B[0m\u001B[1;33m)\u001B[0m\u001B[1;33m)\u001B[0m\u001B[1;33m.\u001B[0m\u001B[0mindex\u001B[0m\u001B[1;33m(\u001B[0m\u001B[0mstat_key\u001B[0m\u001B[1;33m)\u001B[0m\u001B[1;33m]\u001B[0m\u001B[1;33m\u001B[0m\u001B[1;33m\u001B[0m\u001B[0m\n\u001B[0;32m     49\u001B[0m                     \u001B[0mnature_modifier\u001B[0m \u001B[1;33m=\u001B[0m \u001B[0mmodifiers\u001B[0m\u001B[1;33m[\u001B[0m\u001B[0mstat_key\u001B[0m\u001B[1;33m]\u001B[0m\u001B[1;33m\u001B[0m\u001B[1;33m\u001B[0m\u001B[0m\n",
      "\u001B[1;31mKeyboardInterrupt\u001B[0m: "
     ]
    }
   ],
   "execution_count": 68,
   "source": [
    "import itertools\n",
    "\n",
    "# Define natures and their stat changes\n",
    "natures = {\n",
    "    'Hardy': {'atk': 1.0, 'def': 1.0, 'spa': 1.0, 'spd': 1.0, 'spe': 1.0},\n",
    "    'Lonely': {'atk': 1.1, 'def': 0.9, 'spa': 1.0, 'spd': 1.0, 'spe': 1.0},\n",
    "    'Brave': {'atk': 1.1, 'def': 1.0, 'spa': 1.0, 'spd': 1.0, 'spe': 0.9},\n",
    "    'Adamant': {'atk': 1.1, 'def': 1.0, 'spa': 0.9, 'spd': 1.0, 'spe': 1.0},\n",
    "    'Naughty': {'atk': 1.1, 'def': 1.0, 'spa': 1.0, 'spd': 0.9, 'spe': 1.0},\n",
    "    'Bold': {'atk': 0.9, 'def': 1.1, 'spa': 1.0, 'spd': 1.0, 'spe': 1.0},\n",
    "    'Docile': {'atk': 1.0, 'def': 1.0, 'spa': 1.0, 'spd': 1.0, 'spe': 1.0},\n",
    "    'Relaxed': {'atk': 1.0, 'def': 1.1, 'spa': 1.0, 'spd': 1.0, 'spe': 0.9},\n",
    "    'Impish': {'atk': 1.0, 'def': 1.1, 'spa': 0.9, 'spd': 1.0, 'spe': 1.0},\n",
    "    'Lax': {'atk': 1.0, 'def': 1.1, 'spa': 1.0, 'spd': 0.9, 'spe': 1.0},\n",
    "    'Timid': {'atk': 0.9, 'def': 1.0, 'spa': 1.0, 'spd': 1.0, 'spe': 1.1},\n",
    "    'Hasty': {'atk': 1.0, 'def': 0.9, 'spa': 1.0, 'spd': 1.0, 'spe': 1.1},\n",
    "    'Serious': {'atk': 1.0, 'def': 1.0, 'spa': 1.0, 'spd': 1.0, 'spe': 1.0},\n",
    "    'Jolly': {'atk': 1.0, 'def': 1.0, 'spa': 0.9, 'spd': 1.0, 'spe': 1.1},\n",
    "    'Naive': {'atk': 1.0, 'def': 1.0, 'spa': 1.0, 'spd': 0.9, 'spe': 1.1},\n",
    "    'Modest': {'atk': 0.9, 'def': 1.0, 'spa': 1.1, 'spd': 1.0, 'spe': 1.0},\n",
    "    'Mild': {'atk': 1.0, 'def': 0.9, 'spa': 1.1, 'spd': 1.0, 'spe': 1.0},\n",
    "    'Quiet': {'atk': 1.0, 'def': 1.0, 'spa': 1.1, 'spd': 1.0, 'spe': 0.9},\n",
    "    'Bashful': {'atk': 1.0, 'def': 1.0, 'spa': 1.0, 'spd': 1.0, 'spe': 1.0},\n",
    "    'Rash': {'atk': 1.0, 'def': 1.0, 'spa': 1.1, 'spd': 0.9, 'spe': 1.0},\n",
    "    'Calm': {'atk': 0.9, 'def': 1.0, 'spa': 1.0, 'spd': 1.1, 'spe': 1.0},\n",
    "    'Gentle': {'atk': 1.0, 'def': 0.9, 'spa': 1.0, 'spd': 1.1, 'spe': 1.0},\n",
    "    'Sassy': {'atk': 1.0, 'def': 1.0, 'spa': 1.0, 'spd': 1.1, 'spe': 0.9},\n",
    "    'Careful': {'atk': 1.0, 'def': 1.0, 'spa': 0.9, 'spd': 1.1, 'spe': 1.0},\n",
    "    'Quirky': {'atk': 1.0, 'def': 1.0, 'spa': 1.0, 'spd': 1.0, 'spe': 1.0}\n",
    "}\n",
    "\n",
    "# Function to calculate a stat\n",
    "def calculate_stat(base_stat, iv, ev, level, nature_modifier):\n",
    "    return int((((2 * base_stat + iv + (ev // 4)) * level) // 100 + 5) * nature_modifier)\n",
    "\n",
    "# Function to estimate IVs, EVs, and Nature for all stats\n",
    "def estimate_all_stats(base_stats, observed_stats, level):\n",
    "    possible_results = []\n",
    "\n",
    "    # Iterate over all possible IVs (0-31) and EVs (0-252, step by 4)\n",
    "    for ivs in itertools.product(range(32), repeat=5):\n",
    "        for evs in itertools.product(range(0, 253, 4), repeat=5):\n",
    "            for nature, modifiers in natures.items():\n",
    "                matched = True\n",
    "                for stat_key, base_stat in base_stats.items():\n",
    "                    observed_stat = observed_stats[stat_key]\n",
    "                    iv = ivs[list(base_stats.keys()).index(stat_key)]\n",
    "                    ev = evs[list(base_stats.keys()).index(stat_key)]\n",
    "                    nature_modifier = modifiers[stat_key]\n",
    "                    calculated_stat = calculate_stat(base_stat, iv, ev, level, nature_modifier)\n",
    "\n",
    "                    if calculated_stat != observed_stat:\n",
    "                        matched = False\n",
    "                        break\n",
    "\n",
    "                if matched:\n",
    "                    possible_results.append({\n",
    "                        'ivs': ivs,\n",
    "                        'evs': evs,\n",
    "                        'nature': nature\n",
    "                    })\n",
    "\n",
    "    return possible_results\n",
    "\n",
    "# Example Usage\n",
    "# Assuming Haunter's base stats in Gen 8 are as follows:\n",
    "base_stats = {\n",
    "    'atk': 50,\n",
    "}\n",
    "\n",
    "# Observed stats at level 50\n",
    "observed_stats = {\n",
    "    'atk': 70,\n",
    "}\n",
    "\n",
    "level = 50\n",
    "\n",
    "# Estimate possible matches\n",
    "possible_matches = estimate_all_stats(base_stats, observed_stats, level)\n",
    "\n",
    "# Print possible matches\n",
    "for match in possible_matches:\n",
    "    ivs = match['ivs']\n",
    "    evs = match['evs']\n",
    "    nature = match['nature']\n",
    "    print(f\"IVs: {ivs}, EVs: {evs}, Nature: {nature}\")\n"
   ],
   "id": "7bae736bd8daa1a6"
  },
  {
   "metadata": {},
   "cell_type": "code",
   "outputs": [],
   "execution_count": 4,
   "source": [
    "def run_javascript(file_path, *args):\n",
    "    result = subprocess.run([\"node \", file_path] + list(args), capture_output=True, text=True, check=True)\n",
    "    return result.stdout\n",
    "\n",
    "# run_javascript(\"test.js\", )\n",
    "damage_calculator_js = \"damage_calculation.js\"\n",
    "attacker = \"Gengar\"\n",
    "defender = \"Chansey\"\n",
    "move = \"Thunderbolt\"\n",
    "\n",
    "damage = run_javascript(damage_calculator_js, attacker, defender, move)\n",
    "\n",
    "if damage:\n",
    "    print(\"Calculated damage:\", damage)\n",
    "    average_damage = sum(damage)/len(damage)\n",
    "    print(f\"Average damage: {average_damage}\")\n",
    "else:\n",
    "    print(\"Could not calculate damage.\")\n"
   ],
   "id": "2ca565d0d65281dc"
  },
  {
   "metadata": {
    "ExecuteTime": {
     "end_time": "2024-10-27T11:26:46.424673Z",
     "start_time": "2024-10-27T11:26:46.235304Z"
    }
   },
   "cell_type": "code",
   "source": [
    "arg1 = 'Gengar'\n",
    "arg2 = '100'\n",
    "arg3 = 'leftovers'\n",
    "arg4 = 'None'\n",
    "arg5 = 'noability'\n",
    "arg6 = \"{'accuracy': 0, 'atk': 0, 'def': 0, 'evasion': 0, 'spa': 0, 'spd': 0, 'spe': 0}\"\n",
    "\n",
    "arg7 = 'Chansey'\n",
    "arg8 = '100'\n",
    "arg9 = 'leftovers'\n",
    "arg10 = 'None'\n",
    "arg11 = 'noability'\n",
    "arg12 = \"{'accuracy': 0, 'atk': 0, 'def': 0, 'evasion': 0, 'spa': 0, 'spd': 0, 'spe': 0}\"\n",
    "\n",
    "arg13 = 'Thunderbolt'\n",
    "\n",
    "# damage_calc = run_javascript(\"damage_calculation.js\", \n",
    "# attacker_name, attacker_level, attacker_item, attacker_status, attacker_ability, attacker_boosts, \n",
    "# defender_name, defender_level, defender_item, defender_status, defender_ability, defender_boosts, \n",
    "#                str(move))\n",
    "\n",
    "damage_calc = run_javascript(\"damage_calculation.js\", arg1, arg2, arg3, arg4, arg5, arg6, arg7, arg8, arg9, arg10, arg11, arg12, arg13)\n",
    "print(damage_calc)"
   ],
   "id": "b0563100d01f5fb",
   "outputs": [
    {
     "name": "stdout",
     "output_type": "stream",
     "text": [
      "[79, 80, 80, 81, 81, 81, 82, 82, 82, 83, 83, 84, 84, 84, 85, 85, 85, 86, 86, 86, 87, 87, 88, 88, 88, 89, 89, 89, 90, 90, 91, 91, 91, 92, 92, 92, 93, 93, 94]\n"
     ]
    }
   ],
   "execution_count": 108
  },
  {
   "metadata": {},
   "cell_type": "code",
   "outputs": [],
   "execution_count": null,
   "source": "",
   "id": "494cc7447beabda0"
  }
 ],
 "metadata": {
  "kernelspec": {
   "display_name": "Python 3",
   "language": "python",
   "name": "python3"
  },
  "language_info": {
   "codemirror_mode": {
    "name": "ipython",
    "version": 2
   },
   "file_extension": ".py",
   "mimetype": "text/x-python",
   "name": "python",
   "nbconvert_exporter": "python",
   "pygments_lexer": "ipython2",
   "version": "2.7.6"
  }
 },
 "nbformat": 4,
 "nbformat_minor": 5
}
