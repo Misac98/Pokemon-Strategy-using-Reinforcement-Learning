{
 "cells": [
  {
   "cell_type": "code",
   "execution_count": 1,
   "id": "initial_id",
   "metadata": {
    "ExecuteTime": {
     "end_time": "2024-10-27T12:21:55.064746Z",
     "start_time": "2024-10-27T12:21:55.049124Z"
    }
   },
   "outputs": [],
   "source": [
    "#pip install poke-env\n",
    "#pip install --upgrade poke-env\n",
    "#pip show poke-env\n",
    "#cd \"C:\\Users\\Isac\\Desktop\\Pokémon project\\pythonProject\\pokemon-showdown\"\n",
    "#node pokemon-showdown start --no-security"
   ]
  },
  {
   "cell_type": "code",
   "execution_count": 2,
   "id": "2ab610140f3cc75f",
   "metadata": {
    "ExecuteTime": {
     "end_time": "2024-10-27T13:12:12.316518Z",
     "start_time": "2024-10-27T13:12:11.295683Z"
    }
   },
   "outputs": [],
   "source": [
    "import numpy as np\n",
    "from poke_env.teambuilder import Teambuilder\n",
    "\n",
    "class RandomTeamFromPool(Teambuilder):\n",
    "    def __init__(self, teams):\n",
    "        self.teams = [self.join_team(self.parse_showdown_team(team)) for team in teams]\n",
    "\n",
    "    def yield_team(self):\n",
    "        return np.random.choice(self.teams)\n",
    "    "
   ]
  },
  {
   "cell_type": "code",
   "execution_count": null,
   "id": "320e2dafc6d678cb",
   "metadata": {
    "ExecuteTime": {
     "end_time": "2024-10-27T13:12:17.438274Z",
     "start_time": "2024-10-27T13:12:17.405718Z"
    }
   },
   "outputs": [],
   "source": [
    "import os\n",
    "\n",
    "relative_path = \"pokémonTeams/teams1\"\n",
    "\n",
    "teamsPaths = []\n",
    "for root, dirs, files in os.walk(relative_path):\n",
    "\tfor file in files:\n",
    "\t\tteamsPaths.append(os.path.join(root,file))\n",
    "\n",
    "teams = []\n",
    "for teamPath in teamsPaths:\n",
    "    with open(teamPath, \"r\") as team:\n",
    "        teams.append(team.read())\n"
   ]
  },
  {
   "cell_type": "code",
   "execution_count": 4,
   "id": "1022eb0649940200",
   "metadata": {
    "ExecuteTime": {
     "end_time": "2024-10-27T13:12:18.780811Z",
     "start_time": "2024-10-27T13:12:18.768161Z"
    }
   },
   "outputs": [
    {
     "name": "stdout",
     "output_type": "stream",
     "text": [
      "['Exeggutor @ Leftovers  \\nAbility: Chlorophyll  \\n- Explosion  \\n- Psychic  \\n- Stun Spore  \\n- Giga Drain  \\n\\nCharizard @ Leftovers  \\nAbility: Blaze  \\n- Belly Drum  \\n- Earthquake  \\n- Fire Blast  \\n- Rock Slide  \\n\\nRaikou @ Leftovers  \\nAbility: Pressure  \\nIVs: 26 Def  \\n- Rest  \\n- Hidden Power [Ice]  \\n- Sleep Talk  \\n- Thunder  \\n\\nRhydon @ Leftovers  \\nAbility: Lightning Rod  \\n- Rock Slide  \\n- Zap Cannon  \\n- Earthquake  \\n- Roar  \\n\\nSnorlax @ Leftovers  \\nAbility: Immunity  \\n- Double-Edge  \\n- Earthquake  \\n- Lovely Kiss  \\n- Self-Destruct  \\n\\nStarmie @ Leftovers  \\nAbility: Illuminate  \\n- Rapid Spin  \\n- Recover  \\n- Surf  \\n- Thunder Wave  ', 'Snorlax @ Leftovers  \\nAbility: No Ability  \\n- Double-Edge  \\n- Earthquake  \\n- Flamethrower  \\n- Rest  \\n\\nCloyster @ Leftovers  \\nAbility: No Ability  \\n- Surf  \\n- Toxic  \\n- Spikes  \\n- Rest  \\n\\nZapdos @ Leftovers  \\nAbility: No Ability  \\nIVs: 26 Def  \\n- Thunder  \\n- Hidden Power [Ice]  \\n- Rest  \\n- Sleep Talk  \\n\\nGolem @ Leftovers  \\nAbility: No Ability  \\n- Earthquake  \\n- Rapid Spin  \\n- Roar  \\n- Rest  \\n\\nSkarmory @ Leftovers  \\nAbility: No Ability  \\n- Drill Peck  \\n- Toxic  \\n- Curse  \\n- Rest  \\n\\nBlissey (F) @ Leftovers  \\nAbility: No Ability  \\n- Flamethrower  \\n- Heal Bell  \\n- Light Screen  \\n- Soft-Boiled  ', 'Zapdos @ Leftovers  \\nAbility: No Ability  \\nIVs: 26 Def  \\n- Thunder  \\n- Hidden Power [Ice]  \\n- Rest  \\n- Sleep Talk  \\n\\nExeggutor @ Leftovers  \\nAbility: No Ability  \\nIVs: 6 HP / 28 Atk / 24 Def  \\n- Psychic  \\n- Hidden Power [Fire]  \\n- Giga Drain  \\n- Explosion  \\n\\nCloyster @ Leftovers  \\nAbility: No Ability  \\n- Surf  \\n- Toxic  \\n- Spikes  \\n- Explosion  \\n\\nGengar @ Leftovers  \\nAbility: No Ability  \\n- Ice Punch  \\n- Thunderbolt  \\n- Destiny Bond  \\n- Explosion  \\n\\nSnorlax @ Leftovers  \\nAbility: No Ability  \\n- Double-Edge  \\n- Earthquake  \\n- Fire Blast  \\n- Self-Destruct  \\n\\nAlakazam @ Leftovers  \\nAbility: No Ability  \\n- Psychic  \\n- Fire Punch  \\n- Recover  \\n- Encore  ', 'Snorlax @ Leftovers  \\nAbility: No Ability  \\n- Curse  \\n- Double-Edge  \\n- Earthquake  \\n- Rest  \\n\\nCloyster @ Leftovers  \\nAbility: No Ability  \\n- Spikes  \\n- Surf  \\n- Toxic  \\n- Explosion  \\n\\nGolem @ Leftovers  \\nAbility: No Ability  \\n- Earthquake  \\n- Rapid Spin  \\n- Roar  \\n- Explosion  \\n\\nExeggutor @ Leftovers  \\nAbility: No Ability  \\nIVs: 6 HP / 28 Atk / 24 Def  \\n- Psychic  \\n- Giga Drain  \\n- Hidden Power [Fire]  \\n- Explosion  \\n\\nMoltres @ Charcoal  \\nAbility: Pressure  \\n- Sunny Day  \\n- Fire Blast  \\n- Rest  \\n- Sleep Talk  \\n\\nZapdos @ Leftovers  \\nAbility: No Ability  \\nIVs: 26 Def  \\n- Thunder  \\n- Hidden Power [Ice]  \\n- Rest  \\n- Sleep Talk  ', 'Smeargle @ Miracle Berry  \\nAbility: none  \\n- Spore  \\n- Agility  \\n- Baton Pass  \\n- Spikes  \\n\\nScizor @ Miracle Berry  \\nAbility: none  \\nIVs: 26 Atk / 26 Def  \\n- Hidden Power [Bug]  \\n- Agility  \\n- Baton Pass  \\n- Swords Dance  \\n\\nSnorlax @ Leftovers  \\nAbility: none  \\n- Double-Edge  \\n- Earthquake  \\n- Belly Drum  \\n- Protect  \\n\\nMarowak @ Thick Club  \\nAbility: none  \\nIVs: 26 Atk / 26 Def  \\n- Earthquake  \\n- Rock Slide  \\n- Fire Blast  \\n- Hidden Power [Bug]  \\n\\nJolteon @ Leftovers  \\nAbility: none  \\nIVs: 14 HP / 28 Atk / 26 Def  \\n- Agility  \\n- Thunder  \\n- Hidden Power [Water]  \\n- Baton Pass  \\n\\nMachamp @ Miracle Berry  \\nAbility: none  \\nIVs: 26 Atk / 26 Def  \\n- Cross Chop  \\n- Rock Slide  \\n- Meditate  \\n- Hidden Power [Bug]  ']\n"
     ]
    }
   ],
   "source": [
    "print(teams)\n",
    "custom_builder = RandomTeamFromPool(teams)"
   ]
  },
  {
   "cell_type": "code",
   "execution_count": 5,
   "id": "2bb6cd7b2fdc9b08",
   "metadata": {
    "ExecuteTime": {
     "end_time": "2024-10-27T13:12:19.965823Z",
     "start_time": "2024-10-27T13:12:19.954282Z"
    }
   },
   "outputs": [],
   "source": [
    "import subprocess\n",
    "import json\n",
    "\n",
    "def run_javascript(file_path, *args):\n",
    "    result = subprocess.run([\"node\", file_path] + list(args), capture_output=True, text=True, check=True)\n",
    "    return json.loads(result.stdout)\n"
   ]
  },
  {
   "cell_type": "code",
   "execution_count": 6,
   "id": "3457b3d209a4bd0e",
   "metadata": {
    "ExecuteTime": {
     "end_time": "2024-10-27T13:12:21.867343Z",
     "start_time": "2024-10-27T13:12:21.839254Z"
    }
   },
   "outputs": [],
   "source": [
    "from poke_env.player.player import Player\n",
    "from poke_env.environment.abstract_battle import AbstractBattle\n",
    "import requests\n",
    "\n",
    "# Define a custom player by subclassing Player\n",
    "class CustomPlayer(Player):\n",
    "    def choose_move(self, battle: AbstractBattle):\n",
    "        if battle.available_moves:\n",
    "            return self.create_order(max(battle.available_moves, key=lambda move: move.base_power*move.accuracy))\n",
    "        else:\n",
    "            return self.choose_random_move(battle)\n",
    "\n",
    "# Define a optimized player by subclassing Player\n",
    "class OptimizedPlayer(Player):                \n",
    "    def choose_move(self, battle: AbstractBattle):\n",
    "        # print(f\"Own pokemon: {battle.active_pokemon}\")\n",
    "        # print(f\"Own pokemon name: {battle.active_pokemon.species}\")\n",
    "        # print(f\"Own pokemon level: {battle.active_pokemon.level}\")\n",
    "        # print(f\"Own pokemon item: {battle.active_pokemon.item}\")\n",
    "        # print(f\"Own pokemon status: {battle.active_pokemon.status}\")\n",
    "        # print(f\"Own pokemon ability: {battle.active_pokemon.ability}\")\n",
    "        # print(f\"Own pokemon boosts: {battle.active_pokemon.boosts}\")\n",
    "        \n",
    "        # print(f\"Own pokemon stats: {battle.active_pokemon.stats}\")\n",
    "        # print(f\"Own pokemon base stats: {battle.active_pokemon.base_stats}\")\n",
    "        \n",
    "        # print(f\"Opponent pokemon: {battle.opponent_active_pokemon}\")\n",
    "        # print(f\"Opponent pokemon name: {battle.opponent_active_pokemon.species}\")\n",
    "        \n",
    "        # print()\n",
    "        if battle.available_moves:\n",
    "            attacker = battle.active_pokemon\n",
    "            defender = battle.opponent_active_pokemon\n",
    "\n",
    "            params = {\n",
    "                'attackerName': str(attacker.species),\n",
    "                'attackerLevel': str(attacker.level),\n",
    "                'attackerItem': str(attacker.item),\n",
    "                'attackerStatus':str(attacker.status),\n",
    "                'attackerAbility':str(attacker.ability),\n",
    "                'attackerBoosts':str(attacker.boosts),\n",
    "                'defenderName': str(defender.species),\n",
    "                'defenderLevel': str(defender.level),\n",
    "                'defenderItem':  str(defender.item),\n",
    "                'defenderStatus': str(defender.status),\n",
    "                'defenderAbility': str(defender.ability),\n",
    "                'defenderBoosts': str(defender.boosts),\n",
    "                'moveName': None\n",
    "            }\n",
    "            \n",
    "            average_damage_moves = {}\n",
    "            for current_move in battle.available_moves:\n",
    "            \n",
    "                params['moveName'] = str(current_move.id)\n",
    "                \n",
    "                response = requests.get('http://localhost:3000/calculate-damage', params=params)\n",
    "                calculate_damage = response.json()\n",
    "                \n",
    "                # print(f\"Current moves: {current_move}\")\n",
    "                # print(f\"Current move damage: {calculate_damage}\")\n",
    "                \n",
    "                if calculate_damage == 0:\n",
    "                    average_damage_moves[current_move] = 0\n",
    "                else:\n",
    "                    average_damage_moves[current_move] = sum(calculate_damage)/len(calculate_damage)\n",
    "                    \n",
    "            # print(f\"Current moves: {average_damage_moves}\")\n",
    "            # print(f\"Picked move: {max(average_damage_moves, key=average_damage_moves.get)}\")\n",
    "            return self.create_order(max(average_damage_moves, key=average_damage_moves.get))\n",
    "        else:\n",
    "            return self.choose_random_move(battle)\n",
    "\n"
   ]
  },
  {
   "cell_type": "code",
   "execution_count": 7,
   "id": "a176877be145ffba",
   "metadata": {
    "ExecuteTime": {
     "end_time": "2024-10-27T13:12:28.137334Z",
     "start_time": "2024-10-27T13:12:28.089698Z"
    }
   },
   "outputs": [],
   "source": [
    "from poke_env import RandomPlayer\n",
    "from poke_env import LocalhostServerConfiguration\n",
    "\n",
    "server_configuration = LocalhostServerConfiguration\n",
    "generation = \"gen2ou\"\n",
    "\n",
    "optimized_player = OptimizedPlayer(\n",
    "    server_configuration=server_configuration,\n",
    "    battle_format=generation,\n",
    "    team=custom_builder)\n",
    "\n",
    "custom_player = CustomPlayer(\n",
    "    server_configuration=server_configuration,\n",
    "    battle_format=generation,\n",
    "    team=custom_builder)\n",
    "\n",
    "random_player = RandomPlayer(\n",
    "    server_configuration=server_configuration,\n",
    "    battle_format=generation,\n",
    "    team=custom_builder)\n",
    "\n",
    "random_player2 = RandomPlayer(\n",
    "    server_configuration=server_configuration,\n",
    "    battle_format=generation,\n",
    "    team=custom_builder)\n"
   ]
  },
  {
   "cell_type": "code",
   "execution_count": null,
   "id": "3f66d196bfe4b3cd",
   "metadata": {},
   "outputs": [
    {
     "name": "stderr",
     "output_type": "stream",
     "text": [
      "2024-12-03 13:37:56,694 - OptimizedPlayer 1 - ERROR - Unhandled exception raised while handling message:\n",
      ">battle-gen2ou-901\n",
      "|player|p2|CustomPlayer 1|1|\n",
      "|teamsize|p1|6\n",
      "|teamsize|p2|6\n",
      "|gen|2\n",
      "|tier|[Gen 2] OU\n",
      "|rule|Sleep Clause Mod: Limit one foe put to sleep\n",
      "|rule|Freeze Clause Mod: Limit one foe frozen\n",
      "|rule|Species Clause: Limit one of each Pokémon\n",
      "|rule|OHKO Clause: OHKO moves are banned\n",
      "|rule|Evasion Items Clause: Evasion items are banned\n",
      "|rule|Evasion Moves Clause: Evasion moves are banned\n",
      "|rule|Endless Battle Clause: Forcing endless battles is banned\n",
      "|rule|HP Percentage Mod: HP is shown in percentages\n",
      "|\n",
      "|t:|1733229476\n",
      "|start\n",
      "|switch|p1a: Exeggutor|Exeggutor, M|393/393\n",
      "|switch|p2a: Zapdos|Zapdos|100/100\n",
      "|turn|1\n",
      "Traceback (most recent call last):\n",
      "  File \"/home/agus/Documents/ITBA/POLIMI/Multidisciplinary Project/Pokemon-Strategy-using-Reinforcement-Learning/env/lib/python3.10/site-packages/requests/models.py\", line 974, in json\n",
      "    return complexjson.loads(self.text, **kwargs)\n",
      "  File \"/usr/lib/python3.10/json/__init__.py\", line 346, in loads\n",
      "    return _default_decoder.decode(s)\n",
      "  File \"/usr/lib/python3.10/json/decoder.py\", line 337, in decode\n",
      "    obj, end = self.raw_decode(s, idx=_w(s, 0).end())\n",
      "  File \"/usr/lib/python3.10/json/decoder.py\", line 355, in raw_decode\n",
      "    raise JSONDecodeError(\"Expecting value\", s, err.value) from None\n",
      "json.decoder.JSONDecodeError: Expecting value: line 1 column 1 (char 0)\n",
      "\n",
      "During handling of the above exception, another exception occurred:\n",
      "\n",
      "Traceback (most recent call last):\n",
      "  File \"/home/agus/Documents/ITBA/POLIMI/Multidisciplinary Project/Pokemon-Strategy-using-Reinforcement-Learning/env/lib/python3.10/site-packages/poke_env/ps_client/ps_client.py\", line 135, in _handle_message\n",
      "    await self._handle_battle_message(split_messages)  # type: ignore\n",
      "  File \"/home/agus/Documents/ITBA/POLIMI/Multidisciplinary Project/Pokemon-Strategy-using-Reinforcement-Learning/env/lib/python3.10/site-packages/poke_env/player/player.py\", line 351, in _handle_battle_message\n",
      "    await self._handle_battle_request(battle)\n",
      "  File \"/home/agus/Documents/ITBA/POLIMI/Multidisciplinary Project/Pokemon-Strategy-using-Reinforcement-Learning/env/lib/python3.10/site-packages/poke_env/player/player.py\", line 375, in _handle_battle_request\n",
      "    message = self.choose_move(battle)\n",
      "  File \"/tmp/ipykernel_22209/2963233184.py\", line 57, in choose_move\n",
      "    calculate_damage = response.json()\n",
      "  File \"/home/agus/Documents/ITBA/POLIMI/Multidisciplinary Project/Pokemon-Strategy-using-Reinforcement-Learning/env/lib/python3.10/site-packages/requests/models.py\", line 978, in json\n",
      "    raise RequestsJSONDecodeError(e.msg, e.doc, e.pos)\n",
      "requests.exceptions.JSONDecodeError: Expecting value: line 1 column 1 (char 0)\n"
     ]
    }
   ],
   "source": [
    "import time\n",
    "start_time = time.time()\n",
    "await optimized_player.battle_against(custom_player, n_battles=1)\n",
    "print(\"--- %s seconds ---\" % (time.time() - start_time))"
   ]
  },
  {
   "cell_type": "code",
   "execution_count": null,
   "id": "5524ae48935d3917",
   "metadata": {
    "ExecuteTime": {
     "end_time": "2024-10-27T15:14:44.509036Z",
     "start_time": "2024-10-27T15:14:44.500864Z"
    }
   },
   "outputs": [
    {
     "name": "stdout",
     "output_type": "stream",
     "text": [
      "Battles played: 10\n",
      "Battles won: 8\n",
      "Win rate: 0.8\n"
     ]
    }
   ],
   "source": [
    "print(f\"Battles played: {optimized_player.n_finished_battles}\")\n",
    "print(f\"Battles won: {optimized_player.n_won_battles}\")\n",
    "print(f\"Win rate: {optimized_player.win_rate}\")"
   ]
  },
  {
   "cell_type": "code",
   "execution_count": null,
   "id": "87b32298",
   "metadata": {},
   "outputs": [
    {
     "name": "stdout",
     "output_type": "stream",
     "text": [
      "   battle_number  battle_turn active_pokemon opponent_active_pokemon  \\\n",
      "0              1            0           None                    None   \n",
      "1              1            1         zapdos               exeggutor   \n",
      "2              1            2      exeggutor                  rhydon   \n",
      "3              1            3      exeggutor                  raikou   \n",
      "4              1            4       cloyster               charizard   \n",
      "5              1            5        snorlax                 snorlax   \n",
      "6              1            6         gengar                 starmie   \n",
      "7              1            7       alakazam                 starmie   \n",
      "\n",
      "                                              events  \n",
      "0  [[init, battle], [title, OptimizedPlayer 3 vs....  \n",
      "1  [[move, p1a: Zapdos, Hidden Power, p2a: Exeggu...  \n",
      "2  [[move, p1a: Exeggutor, Giga Drain, p2a: Rhydo...  \n",
      "3  [[move, p2a: Raikou, Thunder, p1a: Exeggutor],...  \n",
      "4  [[move, p2a: Charizard, Fire Blast, p1a: Cloys...  \n",
      "5  [[move, p1a: Snorlax, Self-Destruct, p2a: Snor...  \n",
      "6  [[move, p2a: Starmie, Surf, p1a: Gengar], [-da...  \n",
      "7  [[move, p1a: Alakazam, Psychic, p2a: Starmie],...  \n"
     ]
    }
   ],
   "source": [
    "import pandas as pd\n",
    "\n",
    "# Define the columns for the DataFrame\n",
    "# columns = ['battle_number', 'battle_turn', 'side_conditions', 'opponent_side_conditions', 'weather', 'fields', 'active_pokemon', 'opponent_active_pokemon', 'events']\n",
    "columns = ['battle_number', 'battle_turn', 'active_pokemon', 'opponent_active_pokemon', 'events']\n",
    "\n",
    "\n",
    "def parse_battle_observations():\n",
    "    battle_results = []\n",
    "    for battle_number, battle in enumerate(optimized_player.battles.values(), start=1):\n",
    "        observations = battle.observations\n",
    "        # print(observations)\n",
    "\n",
    "        for turn, observation in observations.items():\n",
    "            # side_conditions = observation.side_conditions\n",
    "            # opponent_side_conditions = observation.opponent_side_conditions\n",
    "            # weather = observation.weather\n",
    "            # fields = observation.fields\n",
    "            active_pokemon = observation.active_pokemon.species if observation.active_pokemon else None\n",
    "            opponent_active_pokemon = observation.opponent_active_pokemon.species if observation.opponent_active_pokemon else None\n",
    "            events = observation.events\n",
    "\n",
    "            # Clean the events from redundant information\n",
    "            for event in events:\n",
    "                if event[0] == \"\":\n",
    "                    event.pop(0)\n",
    "\n",
    "            if events[-1][0] == \"turn\":\n",
    "                events.pop(-1)\n",
    "            if events[-1][0] == \"upkeep\":\n",
    "                events.pop(-1)\n",
    "\n",
    "                \n",
    "\n",
    "            battle_results.append({\n",
    "                'battle_number': battle_number,\n",
    "                'battle_turn': turn,\n",
    "                # 'side_conditions': side_conditions,\n",
    "                # 'opponent_side_conditions': opponent_side_conditions,\n",
    "                # 'weather': weather,\n",
    "                # 'fields': fields,\n",
    "                'active_pokemon': active_pokemon,\n",
    "                'opponent_active_pokemon': opponent_active_pokemon,\n",
    "                'events': events\n",
    "            })\n",
    "    return battle_results\n",
    "\n",
    "# Parse the battle observations and create a DataFrame\n",
    "battle_results = parse_battle_observations()\n",
    "df = pd.DataFrame(battle_results, columns=columns)\n",
    "\n",
    "# Export DataFrame to JSON\n",
    "df.to_json('results/battle_results.json', orient='records')\n",
    "print(df)\n",
    "\n"
   ]
  },
  {
   "cell_type": "code",
   "execution_count": null,
   "id": "e89c2558da27b8c8",
   "metadata": {},
   "outputs": [
    {
     "ename": "RuntimeError",
     "evalue": "This event loop is already running",
     "output_type": "error",
     "traceback": [
      "\u001b[0;31m---------------------------------------------------------------------------\u001b[0m",
      "\u001b[0;31mRuntimeError\u001b[0m                              Traceback (most recent call last)",
      "Cell \u001b[0;32mIn[1], line 7\u001b[0m\n\u001b[1;32m      4\u001b[0m     \u001b[38;5;28;01mawait\u001b[39;00m optimized_player\u001b[38;5;241m.\u001b[39mbattle_against(custom_player, n_battles\u001b[38;5;241m=\u001b[39m\u001b[38;5;241m1\u001b[39m)\n\u001b[1;32m      6\u001b[0m \u001b[38;5;28;01mif\u001b[39;00m \u001b[38;5;18m__name__\u001b[39m \u001b[38;5;241m==\u001b[39m \u001b[38;5;124m\"\u001b[39m\u001b[38;5;124m__main__\u001b[39m\u001b[38;5;124m\"\u001b[39m:\n\u001b[0;32m----> 7\u001b[0m     \u001b[43masyncio\u001b[49m\u001b[38;5;241;43m.\u001b[39;49m\u001b[43mget_event_loop\u001b[49m\u001b[43m(\u001b[49m\u001b[43m)\u001b[49m\u001b[38;5;241;43m.\u001b[39;49m\u001b[43mrun_until_complete\u001b[49m\u001b[43m(\u001b[49m\u001b[43mmain\u001b[49m\u001b[43m(\u001b[49m\u001b[43m)\u001b[49m\u001b[43m)\u001b[49m\n",
      "File \u001b[0;32m/usr/lib/python3.10/asyncio/base_events.py:625\u001b[0m, in \u001b[0;36mBaseEventLoop.run_until_complete\u001b[0;34m(self, future)\u001b[0m\n\u001b[1;32m    614\u001b[0m \u001b[38;5;250m\u001b[39m\u001b[38;5;124;03m\"\"\"Run until the Future is done.\u001b[39;00m\n\u001b[1;32m    615\u001b[0m \n\u001b[1;32m    616\u001b[0m \u001b[38;5;124;03mIf the argument is a coroutine, it is wrapped in a Task.\u001b[39;00m\n\u001b[0;32m   (...)\u001b[0m\n\u001b[1;32m    622\u001b[0m \u001b[38;5;124;03mReturn the Future's result, or raise its exception.\u001b[39;00m\n\u001b[1;32m    623\u001b[0m \u001b[38;5;124;03m\"\"\"\u001b[39;00m\n\u001b[1;32m    624\u001b[0m \u001b[38;5;28mself\u001b[39m\u001b[38;5;241m.\u001b[39m_check_closed()\n\u001b[0;32m--> 625\u001b[0m \u001b[38;5;28;43mself\u001b[39;49m\u001b[38;5;241;43m.\u001b[39;49m\u001b[43m_check_running\u001b[49m\u001b[43m(\u001b[49m\u001b[43m)\u001b[49m\n\u001b[1;32m    627\u001b[0m new_task \u001b[38;5;241m=\u001b[39m \u001b[38;5;129;01mnot\u001b[39;00m futures\u001b[38;5;241m.\u001b[39misfuture(future)\n\u001b[1;32m    628\u001b[0m future \u001b[38;5;241m=\u001b[39m tasks\u001b[38;5;241m.\u001b[39mensure_future(future, loop\u001b[38;5;241m=\u001b[39m\u001b[38;5;28mself\u001b[39m)\n",
      "File \u001b[0;32m/usr/lib/python3.10/asyncio/base_events.py:584\u001b[0m, in \u001b[0;36mBaseEventLoop._check_running\u001b[0;34m(self)\u001b[0m\n\u001b[1;32m    582\u001b[0m \u001b[38;5;28;01mdef\u001b[39;00m \u001b[38;5;21m_check_running\u001b[39m(\u001b[38;5;28mself\u001b[39m):\n\u001b[1;32m    583\u001b[0m     \u001b[38;5;28;01mif\u001b[39;00m \u001b[38;5;28mself\u001b[39m\u001b[38;5;241m.\u001b[39mis_running():\n\u001b[0;32m--> 584\u001b[0m         \u001b[38;5;28;01mraise\u001b[39;00m \u001b[38;5;167;01mRuntimeError\u001b[39;00m(\u001b[38;5;124m'\u001b[39m\u001b[38;5;124mThis event loop is already running\u001b[39m\u001b[38;5;124m'\u001b[39m)\n\u001b[1;32m    585\u001b[0m     \u001b[38;5;28;01mif\u001b[39;00m events\u001b[38;5;241m.\u001b[39m_get_running_loop() \u001b[38;5;129;01mis\u001b[39;00m \u001b[38;5;129;01mnot\u001b[39;00m \u001b[38;5;28;01mNone\u001b[39;00m:\n\u001b[1;32m    586\u001b[0m         \u001b[38;5;28;01mraise\u001b[39;00m \u001b[38;5;167;01mRuntimeError\u001b[39;00m(\n\u001b[1;32m    587\u001b[0m             \u001b[38;5;124m'\u001b[39m\u001b[38;5;124mCannot run the event loop while another loop is running\u001b[39m\u001b[38;5;124m'\u001b[39m)\n",
      "\u001b[0;31mRuntimeError\u001b[0m: This event loop is already running"
     ]
    }
   ],
   "source": [
    "import asyncio\n",
    "\n",
    "async def main():\n",
    "    await optimized_player.battle_against(custom_player, n_battles=1)\n",
    "\n",
    "if __name__ == \"__main__\":\n",
    "    asyncio.get_event_loop().run_until_complete(main())"
   ]
  },
  {
   "cell_type": "code",
   "execution_count": null,
   "id": "4355bd93b01e5498",
   "metadata": {},
   "outputs": [],
   "source": []
  },
  {
   "cell_type": "code",
   "execution_count": null,
   "id": "7bae736bd8daa1a6",
   "metadata": {},
   "outputs": [
    {
     "ename": "KeyboardInterrupt",
     "evalue": "",
     "output_type": "error",
     "traceback": [
      "\u001b[1;31m---------------------------------------------------------------------------\u001b[0m",
      "\u001b[1;31mKeyboardInterrupt\u001b[0m                         Traceback (most recent call last)",
      "\u001b[1;32m<ipython-input-68-7919d859c2fb>\u001b[0m in \u001b[0;36m<module>\u001b[1;34m\u001b[0m\n\u001b[0;32m     77\u001b[0m \u001b[1;33m\u001b[0m\u001b[0m\n\u001b[0;32m     78\u001b[0m \u001b[1;31m# Estimate possible matches\u001b[0m\u001b[1;33m\u001b[0m\u001b[1;33m\u001b[0m\u001b[1;33m\u001b[0m\u001b[0m\n\u001b[1;32m---> 79\u001b[1;33m \u001b[0mpossible_matches\u001b[0m \u001b[1;33m=\u001b[0m \u001b[0mestimate_all_stats\u001b[0m\u001b[1;33m(\u001b[0m\u001b[0mbase_stats\u001b[0m\u001b[1;33m,\u001b[0m \u001b[0mobserved_stats\u001b[0m\u001b[1;33m,\u001b[0m \u001b[0mlevel\u001b[0m\u001b[1;33m)\u001b[0m\u001b[1;33m\u001b[0m\u001b[1;33m\u001b[0m\u001b[0m\n\u001b[0m\u001b[0;32m     80\u001b[0m \u001b[1;33m\u001b[0m\u001b[0m\n\u001b[0;32m     81\u001b[0m \u001b[1;31m# Print possible matches\u001b[0m\u001b[1;33m\u001b[0m\u001b[1;33m\u001b[0m\u001b[1;33m\u001b[0m\u001b[0m\n",
      "\u001b[1;32m<ipython-input-68-7919d859c2fb>\u001b[0m in \u001b[0;36mestimate_all_stats\u001b[1;34m(base_stats, observed_stats, level)\u001b[0m\n\u001b[0;32m     45\u001b[0m                 \u001b[1;32mfor\u001b[0m \u001b[0mstat_key\u001b[0m\u001b[1;33m,\u001b[0m \u001b[0mbase_stat\u001b[0m \u001b[1;32min\u001b[0m \u001b[0mbase_stats\u001b[0m\u001b[1;33m.\u001b[0m\u001b[0mitems\u001b[0m\u001b[1;33m(\u001b[0m\u001b[1;33m)\u001b[0m\u001b[1;33m:\u001b[0m\u001b[1;33m\u001b[0m\u001b[1;33m\u001b[0m\u001b[0m\n\u001b[0;32m     46\u001b[0m                     \u001b[0mobserved_stat\u001b[0m \u001b[1;33m=\u001b[0m \u001b[0mobserved_stats\u001b[0m\u001b[1;33m[\u001b[0m\u001b[0mstat_key\u001b[0m\u001b[1;33m]\u001b[0m\u001b[1;33m\u001b[0m\u001b[1;33m\u001b[0m\u001b[0m\n\u001b[1;32m---> 47\u001b[1;33m                     \u001b[0miv\u001b[0m \u001b[1;33m=\u001b[0m \u001b[0mivs\u001b[0m\u001b[1;33m[\u001b[0m\u001b[0mlist\u001b[0m\u001b[1;33m(\u001b[0m\u001b[0mbase_stats\u001b[0m\u001b[1;33m.\u001b[0m\u001b[0mkeys\u001b[0m\u001b[1;33m(\u001b[0m\u001b[1;33m)\u001b[0m\u001b[1;33m)\u001b[0m\u001b[1;33m.\u001b[0m\u001b[0mindex\u001b[0m\u001b[1;33m(\u001b[0m\u001b[0mstat_key\u001b[0m\u001b[1;33m)\u001b[0m\u001b[1;33m]\u001b[0m\u001b[1;33m\u001b[0m\u001b[1;33m\u001b[0m\u001b[0m\n\u001b[0m\u001b[0;32m     48\u001b[0m                     \u001b[0mev\u001b[0m \u001b[1;33m=\u001b[0m \u001b[0mevs\u001b[0m\u001b[1;33m[\u001b[0m\u001b[0mlist\u001b[0m\u001b[1;33m(\u001b[0m\u001b[0mbase_stats\u001b[0m\u001b[1;33m.\u001b[0m\u001b[0mkeys\u001b[0m\u001b[1;33m(\u001b[0m\u001b[1;33m)\u001b[0m\u001b[1;33m)\u001b[0m\u001b[1;33m.\u001b[0m\u001b[0mindex\u001b[0m\u001b[1;33m(\u001b[0m\u001b[0mstat_key\u001b[0m\u001b[1;33m)\u001b[0m\u001b[1;33m]\u001b[0m\u001b[1;33m\u001b[0m\u001b[1;33m\u001b[0m\u001b[0m\n\u001b[0;32m     49\u001b[0m                     \u001b[0mnature_modifier\u001b[0m \u001b[1;33m=\u001b[0m \u001b[0mmodifiers\u001b[0m\u001b[1;33m[\u001b[0m\u001b[0mstat_key\u001b[0m\u001b[1;33m]\u001b[0m\u001b[1;33m\u001b[0m\u001b[1;33m\u001b[0m\u001b[0m\n",
      "\u001b[1;31mKeyboardInterrupt\u001b[0m: "
     ]
    }
   ],
   "source": [
    "import itertools\n",
    "\n",
    "# Define natures and their stat changes\n",
    "natures = {\n",
    "    'Hardy': {'atk': 1.0, 'def': 1.0, 'spa': 1.0, 'spd': 1.0, 'spe': 1.0},\n",
    "    'Lonely': {'atk': 1.1, 'def': 0.9, 'spa': 1.0, 'spd': 1.0, 'spe': 1.0},\n",
    "    'Brave': {'atk': 1.1, 'def': 1.0, 'spa': 1.0, 'spd': 1.0, 'spe': 0.9},\n",
    "    'Adamant': {'atk': 1.1, 'def': 1.0, 'spa': 0.9, 'spd': 1.0, 'spe': 1.0},\n",
    "    'Naughty': {'atk': 1.1, 'def': 1.0, 'spa': 1.0, 'spd': 0.9, 'spe': 1.0},\n",
    "    'Bold': {'atk': 0.9, 'def': 1.1, 'spa': 1.0, 'spd': 1.0, 'spe': 1.0},\n",
    "    'Docile': {'atk': 1.0, 'def': 1.0, 'spa': 1.0, 'spd': 1.0, 'spe': 1.0},\n",
    "    'Relaxed': {'atk': 1.0, 'def': 1.1, 'spa': 1.0, 'spd': 1.0, 'spe': 0.9},\n",
    "    'Impish': {'atk': 1.0, 'def': 1.1, 'spa': 0.9, 'spd': 1.0, 'spe': 1.0},\n",
    "    'Lax': {'atk': 1.0, 'def': 1.1, 'spa': 1.0, 'spd': 0.9, 'spe': 1.0},\n",
    "    'Timid': {'atk': 0.9, 'def': 1.0, 'spa': 1.0, 'spd': 1.0, 'spe': 1.1},\n",
    "    'Hasty': {'atk': 1.0, 'def': 0.9, 'spa': 1.0, 'spd': 1.0, 'spe': 1.1},\n",
    "    'Serious': {'atk': 1.0, 'def': 1.0, 'spa': 1.0, 'spd': 1.0, 'spe': 1.0},\n",
    "    'Jolly': {'atk': 1.0, 'def': 1.0, 'spa': 0.9, 'spd': 1.0, 'spe': 1.1},\n",
    "    'Naive': {'atk': 1.0, 'def': 1.0, 'spa': 1.0, 'spd': 0.9, 'spe': 1.1},\n",
    "    'Modest': {'atk': 0.9, 'def': 1.0, 'spa': 1.1, 'spd': 1.0, 'spe': 1.0},\n",
    "    'Mild': {'atk': 1.0, 'def': 0.9, 'spa': 1.1, 'spd': 1.0, 'spe': 1.0},\n",
    "    'Quiet': {'atk': 1.0, 'def': 1.0, 'spa': 1.1, 'spd': 1.0, 'spe': 0.9},\n",
    "    'Bashful': {'atk': 1.0, 'def': 1.0, 'spa': 1.0, 'spd': 1.0, 'spe': 1.0},\n",
    "    'Rash': {'atk': 1.0, 'def': 1.0, 'spa': 1.1, 'spd': 0.9, 'spe': 1.0},\n",
    "    'Calm': {'atk': 0.9, 'def': 1.0, 'spa': 1.0, 'spd': 1.1, 'spe': 1.0},\n",
    "    'Gentle': {'atk': 1.0, 'def': 0.9, 'spa': 1.0, 'spd': 1.1, 'spe': 1.0},\n",
    "    'Sassy': {'atk': 1.0, 'def': 1.0, 'spa': 1.0, 'spd': 1.1, 'spe': 0.9},\n",
    "    'Careful': {'atk': 1.0, 'def': 1.0, 'spa': 0.9, 'spd': 1.1, 'spe': 1.0},\n",
    "    'Quirky': {'atk': 1.0, 'def': 1.0, 'spa': 1.0, 'spd': 1.0, 'spe': 1.0}\n",
    "}\n",
    "\n",
    "# Function to calculate a stat\n",
    "def calculate_stat(base_stat, iv, ev, level, nature_modifier):\n",
    "    return int((((2 * base_stat + iv + (ev // 4)) * level) // 100 + 5) * nature_modifier)\n",
    "\n",
    "# Function to estimate IVs, EVs, and Nature for all stats\n",
    "def estimate_all_stats(base_stats, observed_stats, level):\n",
    "    possible_results = []\n",
    "\n",
    "    # Iterate over all possible IVs (0-31) and EVs (0-252, step by 4)\n",
    "    for ivs in itertools.product(range(32), repeat=5):\n",
    "        for evs in itertools.product(range(0, 253, 4), repeat=5):\n",
    "            for nature, modifiers in natures.items():\n",
    "                matched = True\n",
    "                for stat_key, base_stat in base_stats.items():\n",
    "                    observed_stat = observed_stats[stat_key]\n",
    "                    iv = ivs[list(base_stats.keys()).index(stat_key)]\n",
    "                    ev = evs[list(base_stats.keys()).index(stat_key)]\n",
    "                    nature_modifier = modifiers[stat_key]\n",
    "                    calculated_stat = calculate_stat(base_stat, iv, ev, level, nature_modifier)\n",
    "\n",
    "                    if calculated_stat != observed_stat:\n",
    "                        matched = False\n",
    "                        break\n",
    "\n",
    "                if matched:\n",
    "                    possible_results.append({\n",
    "                        'ivs': ivs,\n",
    "                        'evs': evs,\n",
    "                        'nature': nature\n",
    "                    })\n",
    "\n",
    "    return possible_results\n",
    "\n",
    "# Example Usage\n",
    "# Assuming Haunter's base stats in Gen 8 are as follows:\n",
    "base_stats = {\n",
    "    'atk': 50,\n",
    "}\n",
    "\n",
    "# Observed stats at level 50\n",
    "observed_stats = {\n",
    "    'atk': 70,\n",
    "}\n",
    "\n",
    "level = 50\n",
    "\n",
    "# Estimate possible matches\n",
    "possible_matches = estimate_all_stats(base_stats, observed_stats, level)\n",
    "\n",
    "# Print possible matches\n",
    "for match in possible_matches:\n",
    "    ivs = match['ivs']\n",
    "    evs = match['evs']\n",
    "    nature = match['nature']\n",
    "    print(f\"IVs: {ivs}, EVs: {evs}, Nature: {nature}\")\n"
   ]
  },
  {
   "cell_type": "code",
   "execution_count": null,
   "id": "2ca565d0d65281dc",
   "metadata": {},
   "outputs": [],
   "source": [
    "def run_javascript(file_path, *args):\n",
    "    result = subprocess.run([\"node \", file_path] + list(args), capture_output=True, text=True, check=True)\n",
    "    return result.stdout\n",
    "\n",
    "# run_javascript(\"test.js\", )\n",
    "damage_calculator_js = \"damage_calculation.js\"\n",
    "attacker = \"Gengar\"\n",
    "defender = \"Chansey\"\n",
    "move = \"Thunderbolt\"\n",
    "\n",
    "damage = run_javascript(damage_calculator_js, attacker, defender, move)\n",
    "\n",
    "if damage:\n",
    "    print(\"Calculated damage:\", damage)\n",
    "    average_damage = sum(damage)/len(damage)\n",
    "    print(f\"Average damage: {average_damage}\")\n",
    "else:\n",
    "    print(\"Could not calculate damage.\")\n"
   ]
  },
  {
   "cell_type": "code",
   "execution_count": null,
   "id": "b0563100d01f5fb",
   "metadata": {
    "ExecuteTime": {
     "end_time": "2024-10-27T11:26:46.424673Z",
     "start_time": "2024-10-27T11:26:46.235304Z"
    }
   },
   "outputs": [
    {
     "name": "stdout",
     "output_type": "stream",
     "text": [
      "[79, 80, 80, 81, 81, 81, 82, 82, 82, 83, 83, 84, 84, 84, 85, 85, 85, 86, 86, 86, 87, 87, 88, 88, 88, 89, 89, 89, 90, 90, 91, 91, 91, 92, 92, 92, 93, 93, 94]\n"
     ]
    }
   ],
   "source": [
    "arg1 = 'Gengar'\n",
    "arg2 = '100'\n",
    "arg3 = 'leftovers'\n",
    "arg4 = 'None'\n",
    "arg5 = 'noability'\n",
    "arg6 = \"{'accuracy': 0, 'atk': 0, 'def': 0, 'evasion': 0, 'spa': 0, 'spd': 0, 'spe': 0}\"\n",
    "\n",
    "arg7 = 'Chansey'\n",
    "arg8 = '100'\n",
    "arg9 = 'leftovers'\n",
    "arg10 = 'None'\n",
    "arg11 = 'noability'\n",
    "arg12 = \"{'accuracy': 0, 'atk': 0, 'def': 0, 'evasion': 0, 'spa': 0, 'spd': 0, 'spe': 0}\"\n",
    "\n",
    "arg13 = 'Thunderbolt'\n",
    "\n",
    "# damage_calc = run_javascript(\"damage_calculation.js\", \n",
    "# attacker_name, attacker_level, attacker_item, attacker_status, attacker_ability, attacker_boosts, \n",
    "# defender_name, defender_level, defender_item, defender_status, defender_ability, defender_boosts, \n",
    "#                str(move))\n",
    "\n",
    "damage_calc = run_javascript(\"damage_calculation.js\", arg1, arg2, arg3, arg4, arg5, arg6, arg7, arg8, arg9, arg10, arg11, arg12, arg13)\n",
    "print(damage_calc)"
   ]
  },
  {
   "cell_type": "code",
   "execution_count": null,
   "id": "494cc7447beabda0",
   "metadata": {},
   "outputs": [],
   "source": []
  }
 ],
 "metadata": {
  "kernelspec": {
   "display_name": "env",
   "language": "python",
   "name": "python3"
  },
  "language_info": {
   "codemirror_mode": {
    "name": "ipython",
    "version": 3
   },
   "file_extension": ".py",
   "mimetype": "text/x-python",
   "name": "python",
   "nbconvert_exporter": "python",
   "pygments_lexer": "ipython3",
   "version": "3.10.12"
  }
 },
 "nbformat": 4,
 "nbformat_minor": 5
}
